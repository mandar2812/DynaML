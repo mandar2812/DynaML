{
 "cells": [
  {
   "cell_type": "code",
   "execution_count": 1,
   "metadata": {},
   "outputs": [
    {
     "data": {
      "text/plain": [
       "\u001b[32mimport \u001b[39m\u001b[36morg.platanios.tensorflow.api._\n",
       "\n",
       "\u001b[39m\n",
       "\u001b[32mimport \u001b[39m\u001b[36mscala.collection.mutable.ArrayBuffer\n",
       "\u001b[39m\n",
       "\u001b[32mimport \u001b[39m\u001b[36mscala.util.Random\n",
       "\n",
       "\u001b[39m\n",
       "\u001b[36mrandom\u001b[39m: \u001b[32mRandom\u001b[39m = scala.util.Random@50d92c27"
      ]
     },
     "execution_count": 1,
     "metadata": {},
     "output_type": "execute_result"
    }
   ],
   "source": [
    "import org.platanios.tensorflow.api._\n",
    "\n",
    "import scala.collection.mutable.ArrayBuffer\n",
    "import scala.util.Random\n",
    "\n",
    "val random = new Random()"
   ]
  },
  {
   "cell_type": "code",
   "execution_count": 2,
   "metadata": {},
   "outputs": [
    {
     "data": {
      "text/plain": [
       "\u001b[36mweight\u001b[39m: \u001b[32mFloat\u001b[39m = \u001b[32m0.84711546F\u001b[39m\n",
       "defined \u001b[32mfunction\u001b[39m \u001b[36mbatch\u001b[39m"
      ]
     },
     "execution_count": 2,
     "metadata": {},
     "output_type": "execute_result"
    }
   ],
   "source": [
    "val weight = random.nextFloat()\n",
    "\n",
    "def batch(batchSize: Int): (Tensor[Float], Tensor[Float]) = {\n",
    "val inputs = ArrayBuffer.empty[Float]\n",
    "val outputs = ArrayBuffer.empty[Float]\n",
    "var i = 0\n",
    "while (i < batchSize) {\n",
    "  val input = random.nextFloat()\n",
    "  inputs += input\n",
    "  outputs += weight * input\n",
    "  i += 1\n",
    "}\n",
    "(Tensor(inputs).reshape(Shape(-1, 1)), Tensor(outputs).reshape(Shape(-1, 1)))\n",
    "}"
   ]
  },
  {
   "cell_type": "code",
   "execution_count": 3,
   "metadata": {},
   "outputs": [
    {
     "name": "stdout",
     "output_type": "stream",
     "text": [
      "Building linear regression model."
     ]
    },
    {
     "name": "stderr",
     "output_type": "stream",
     "text": [
      "SLF4J: Class path contains multiple SLF4J providers.\n",
      "SLF4J: Found provider [org.slf4j.log4j12.Log4j12ServiceProvider@5c28b4ee]\n",
      "SLF4J: Found provider [org.slf4j.helpers.NOPServiceProvider@5e804977]\n",
      "SLF4J: See http://www.slf4j.org/codes.html#multiple_bindings for an explanation.\n",
      "SLF4J: Actual provider is of type [org.slf4j.log4j12.Log4j12ServiceProvider@5c28b4ee]\n"
     ]
    },
    {
     "ename": "",
     "evalue": "",
     "output_type": "error",
     "traceback": [
      "\u001b[31morg.platanios.tensorflow.jni.NotFoundException: /tmp/tensorflow_scala_native_libraries4907677013344669647/libtensorflow_ops.so: undefined symbol: _ZN10tensorflow14kernel_factory17OpKernelRegistrar12InitInternalEPKNS_9KernelDefEN4absl11string_viewESt10unique_ptrINS0_15OpKernelFactoryESt14default_deleteIS8_EE\u001b[39m\n  org.platanios.tensorflow.jni.TensorFlow$.loadOpLibrary(\u001b[32mNative Method\u001b[39m)\n  org.platanios.tensorflow.jni.TensorFlow$.$anonfun$load$6(\u001b[32mTensorFlow.scala\u001b[39m:\u001b[32m107\u001b[39m)\n  scala.Option.foreach(\u001b[32mOption.scala\u001b[39m:\u001b[32m407\u001b[39m)\n  org.platanios.tensorflow.jni.TensorFlow$.load(\u001b[32mTensorFlow.scala\u001b[39m:\u001b[32m107\u001b[39m)\n  org.platanios.tensorflow.jni.TensorFlow$.<init>(\u001b[32mTensorFlow.scala\u001b[39m:\u001b[32m155\u001b[39m)\n  org.platanios.tensorflow.jni.TensorFlow$.<clinit>(\u001b[32mTensorFlow.scala\u001b[39m:\u001b[32m-1\u001b[39m)\n  org.platanios.tensorflow.jni.Graph$.<init>(\u001b[32mGraph.scala\u001b[39m:\u001b[32m22\u001b[39m)\n  org.platanios.tensorflow.jni.Graph$.<clinit>(\u001b[32mGraph.scala\u001b[39m:\u001b[32m-1\u001b[39m)\n  org.platanios.tensorflow.api.core.Graph$.apply(\u001b[32mGraph.scala\u001b[39m:\u001b[32m902\u001b[39m)\n  org.platanios.tensorflow.api.core.package$.<init>(\u001b[32mpackage.scala\u001b[39m:\u001b[32m26\u001b[39m)\n  org.platanios.tensorflow.api.core.package$.<clinit>(\u001b[32mpackage.scala\u001b[39m:\u001b[32m-1\u001b[39m)\n  org.platanios.tensorflow.api.ops.package$.<init>(\u001b[32mpackage.scala\u001b[39m:\u001b[32m44\u001b[39m)\n  org.platanios.tensorflow.api.ops.package$.<clinit>(\u001b[32mpackage.scala\u001b[39m:\u001b[32m-1\u001b[39m)\n  org.platanios.tensorflow.api.ops.Op$Builder.<init>(\u001b[32mOp.scala\u001b[39m:\u001b[32m2574\u001b[39m)\n  org.platanios.tensorflow.api.ops.basic.Constructors.placeholder(\u001b[32mConstructors.scala\u001b[39m:\u001b[32m396\u001b[39m)\n  org.platanios.tensorflow.api.ops.basic.Constructors.placeholder$(\u001b[32mConstructors.scala\u001b[39m:\u001b[32m392\u001b[39m)\n  org.platanios.tensorflow.api.package$tf$.placeholder(\u001b[32mpackage.scala\u001b[39m:\u001b[32m294\u001b[39m)\n  ammonite.$sess.cmd2$Helper.<init>(\u001b[32mcmd2.sc\u001b[39m:\u001b[32m2\u001b[39m)\n  ammonite.$sess.cmd2$.<init>(\u001b[32mcmd2.sc\u001b[39m:\u001b[32m7\u001b[39m)\n  ammonite.$sess.cmd2$.<clinit>(\u001b[32mcmd2.sc\u001b[39m:\u001b[32m-1\u001b[39m)"
     ]
    }
   ],
   "source": [
    "print(\"Building linear regression model.\")\n",
    "val inputs = tf.placeholder[Float](Shape(-1, 1))\n",
    "val outputs = tf.placeholder[Float](Shape(-1, 1))\n",
    "val weights = tf.variable[Float](\"weights\", Shape(1, 1), tf.ZerosInitializer)\n",
    "val predictions = tf.matmul(inputs, weights)\n",
    "val loss = tf.sum(tf.square(predictions - outputs))\n",
    "val trainOp = tf.train.AdaGrad(1.0f).minimize(loss)\n",
    "\n",
    "println(\"Training the linear regression model.\")\n",
    "val session = Session()\n",
    "session.run(targets = tf.globalVariablesInitializer())\n",
    "for (i <- 0 to 25) {\n",
    "val trainBatch = batch(10000)\n",
    "val feeds = Map(inputs -> trainBatch._1, outputs -> trainBatch._2)\n",
    "val trainLoss = session.run(feeds = feeds, fetches = loss, targets = trainOp)\n",
    "if (i % 1 == 0)\n",
    "  println(s\"Train loss at iteration $i = ${trainLoss.scalar} \" +\n",
    "    s\"(weight = ${session.run(fetches = weights.value).scalar})\")\n",
    "}\n",
    "\n",
    "println(s\"Trained weight value: ${session.run(fetches = weights.value).scalar}\")\n",
    "println(s\"True weight value: $weight\")"
   ]
  },
  {
   "cell_type": "code",
   "execution_count": null,
   "metadata": {},
   "outputs": [],
   "source": []
  }
 ],
 "metadata": {
  "kernelspec": {
   "display_name": "Dynaml/Scala",
   "language": "scala",
   "name": "dynaml-scala"
  },
  "language_info": {
   "codemirror_mode": "text/x-scala",
   "file_extension": ".sc",
   "mimetype": "text/x-scala",
   "name": "scala",
   "nbconvert_exporter": "script",
   "version": "2.12.12"
  }
 },
 "nbformat": 4,
 "nbformat_minor": 4
}
