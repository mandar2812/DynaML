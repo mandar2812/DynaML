{
 "cells": [
  {
   "cell_type": "code",
   "execution_count": 1,
   "metadata": {},
   "outputs": [
    {
     "data": {
      "text/plain": [
       "\u001b[32mimport \u001b[39m\u001b[36morg.platanios.tensorflow.api._\n",
       "\n",
       "\u001b[39m\n",
       "\u001b[32mimport \u001b[39m\u001b[36mscala.collection.mutable.ArrayBuffer\n",
       "\u001b[39m\n",
       "\u001b[32mimport \u001b[39m\u001b[36mscala.util.Random\n",
       "\n",
       "\u001b[39m\n",
       "\u001b[36mrandom\u001b[39m: \u001b[32mRandom\u001b[39m = scala.util.Random@77cb9c1e"
      ]
     },
     "execution_count": 1,
     "metadata": {},
     "output_type": "execute_result"
    }
   ],
   "source": [
    "import org.platanios.tensorflow.api._\n",
    "\n",
    "import scala.collection.mutable.ArrayBuffer\n",
    "import scala.util.Random\n",
    "\n",
    "val random = new Random()"
   ]
  },
  {
   "cell_type": "code",
   "execution_count": 2,
   "metadata": {},
   "outputs": [
    {
     "data": {
      "text/plain": [
       "\u001b[36mweight\u001b[39m: \u001b[32mFloat\u001b[39m = \u001b[32m0.74208564F\u001b[39m\n",
       "defined \u001b[32mfunction\u001b[39m \u001b[36mbatch\u001b[39m"
      ]
     },
     "execution_count": 2,
     "metadata": {},
     "output_type": "execute_result"
    }
   ],
   "source": [
    "val weight = random.nextFloat()\n",
    "\n",
    "def batch(batchSize: Int): (Tensor[Float], Tensor[Float]) = {\n",
    "val inputs = ArrayBuffer.empty[Float]\n",
    "val outputs = ArrayBuffer.empty[Float]\n",
    "var i = 0\n",
    "while (i < batchSize) {\n",
    "  val input = random.nextFloat()\n",
    "  inputs += input\n",
    "  outputs += weight * input\n",
    "  i += 1\n",
    "}\n",
    "(Tensor(inputs).reshape(Shape(-1, 1)), Tensor(outputs).reshape(Shape(-1, 1)))\n",
    "}"
   ]
  },
  {
   "cell_type": "code",
   "execution_count": 3,
   "metadata": {},
   "outputs": [
    {
     "name": "stdout",
     "output_type": "stream",
     "text": [
      "Building linear regression model."
     ]
    },
    {
     "name": "stderr",
     "output_type": "stream",
     "text": [
      "SLF4J: Class path contains multiple SLF4J providers.\n",
      "SLF4J: Found provider [org.slf4j.log4j12.Log4j12ServiceProvider@4e09428c]\n",
      "SLF4J: Found provider [org.slf4j.helpers.NOPServiceProvider@6366d536]\n",
      "SLF4J: See http://www.slf4j.org/codes.html#multiple_bindings for an explanation.\n",
      "SLF4J: Actual provider is of type [org.slf4j.log4j12.Log4j12ServiceProvider@4e09428c]\n"
     ]
    },
    {
     "name": "stdout",
     "output_type": "stream",
     "text": [
      "Training the linear regression model.\n",
      "Train loss at iteration 0 = 1831.6814 (weight = 1.0)\n",
      "Train loss at iteration 1 = 222.29132 (weight = 0.6703382)\n",
      "Train loss at iteration 2 = 17.351349 (weight = 0.76244646)\n",
      "Train loss at iteration 3 = 1.3862652 (weight = 0.736524)\n",
      "Train loss at iteration 4 = 0.10259153 (weight = 0.74354696)\n",
      "Train loss at iteration 5 = 0.0070248283 (weight = 0.74171674)\n",
      "Train loss at iteration 6 = 4.5134925E-4 (weight = 0.74218255)\n",
      "Train loss at iteration 7 = 3.1532058E-5 (weight = 0.7420587)\n",
      "Train loss at iteration 8 = 2.427319E-6 (weight = 0.74209297)\n",
      "Train loss at iteration 9 = 1.7987655E-7 (weight = 0.7420836)\n",
      "Train loss at iteration 10 = 1.3720174E-8 (weight = 0.7420862)\n",
      "Train loss at iteration 11 = 9.51544E-10 (weight = 0.7420855)\n",
      "Train loss at iteration 12 = 4.9631847E-11 (weight = 0.7420857)\n",
      "Train loss at iteration 13 = 1.3894611E-11 (weight = 0.74208564)\n",
      "Train loss at iteration 14 = 0.0 (weight = 0.74208564)\n",
      "Train loss at iteration 15 = 0.0 (weight = 0.74208564)\n",
      "Train loss at iteration 16 = 0.0 (weight = 0.74208564)\n",
      "Train loss at iteration 17 = 0.0 (weight = 0.74208564)\n",
      "Train loss at iteration 18 = 0.0 (weight = 0.74208564)\n",
      "Train loss at iteration 19 = 0.0 (weight = 0.74208564)\n",
      "Train loss at iteration 20 = 0.0 (weight = 0.74208564)\n",
      "Train loss at iteration 21 = 0.0 (weight = 0.74208564)\n",
      "Train loss at iteration 22 = 0.0 (weight = 0.74208564)\n",
      "Train loss at iteration 23 = 0.0 (weight = 0.74208564)\n",
      "Train loss at iteration 24 = 0.0 (weight = 0.74208564)\n",
      "Train loss at iteration 25 = 0.0 (weight = 0.74208564)\n",
      "Trained weight value: 0.74208564\n",
      "True weight value: 0.74208564\n"
     ]
    },
    {
     "data": {
      "text/plain": [
       "\u001b[36minputs\u001b[39m: \u001b[32mOutput\u001b[39m[\u001b[32mFloat\u001b[39m] = \u001b[33mOutput\u001b[39m(Placeholder, \u001b[32m0\u001b[39m)\n",
       "\u001b[36moutputs\u001b[39m: \u001b[32mOutput\u001b[39m[\u001b[32mFloat\u001b[39m] = \u001b[33mOutput\u001b[39m(Placeholder_1, \u001b[32m0\u001b[39m)\n",
       "\u001b[36mweights\u001b[39m: \u001b[32mVariable\u001b[39m[\u001b[32mFloat\u001b[39m] = \u001b[33mVariable\u001b[39m(\n",
       "  \u001b[33mDataType\u001b[39m(\u001b[32m\"Float\"\u001b[39m, \u001b[32m1\u001b[39m, \u001b[33mSome\u001b[39m(\u001b[32m4\u001b[39m), DT_FLOAT),\n",
       "  \u001b[33mOutput\u001b[39m(weights, \u001b[32m0\u001b[39m),\n",
       "  weights/InitializationAssign,\n",
       "  \u001b[32mnull\u001b[39m,\n",
       "  \u001b[33mOutput\u001b[39m(weights/Read/ReadVariable, \u001b[32m0\u001b[39m)\n",
       ")\n",
       "\u001b[36mpredictions\u001b[39m: \u001b[32mOutput\u001b[39m[\u001b[32mFloat\u001b[39m] = \u001b[33mOutput\u001b[39m(MatMul, \u001b[32m0\u001b[39m)\n",
       "\u001b[36mloss\u001b[39m: \u001b[32mOutput\u001b[39m[\u001b[32mFloat\u001b[39m] = \u001b[33mOutput\u001b[39m(Sum, \u001b[32m0\u001b[39m)\n",
       "\u001b[36mtrainOp\u001b[39m: \u001b[32mUntypedOp\u001b[39m = Minimize/Finish\n",
       "\u001b[36msession\u001b[39m: \u001b[32mSession\u001b[39m = org.platanios.tensorflow.api.core.client.Session@6d50edbb\n",
       "\u001b[36mres2_9\u001b[39m: \u001b[32mimplicits\u001b[39m.\u001b[32mhelpers\u001b[39m.\u001b[32mOutputToTensor\u001b[39m.\u001b[32m<refinement>\u001b[39m.this.type.\u001b[32mV\u001b[39m = \u001b[33mList\u001b[39m()"
      ]
     },
     "execution_count": 3,
     "metadata": {},
     "output_type": "execute_result"
    }
   ],
   "source": [
    "print(\"Building linear regression model.\")\n",
    "val inputs = tf.placeholder[Float](Shape(-1, 1))\n",
    "val outputs = tf.placeholder[Float](Shape(-1, 1))\n",
    "val weights = tf.variable[Float](\"weights\", Shape(1, 1), tf.ZerosInitializer)\n",
    "val predictions = tf.matmul(inputs, weights)\n",
    "val loss = tf.sum(tf.square(predictions - outputs))\n",
    "val trainOp = tf.train.AdaGrad(1.0f).minimize(loss)\n",
    "\n",
    "println(\"Training the linear regression model.\")\n",
    "val session = Session()\n",
    "session.run(targets = tf.globalVariablesInitializer())\n",
    "for (i <- 0 to 25) {\n",
    "val trainBatch = batch(10000)\n",
    "val feeds = Map(inputs -> trainBatch._1, outputs -> trainBatch._2)\n",
    "val trainLoss = session.run(feeds = feeds, fetches = loss, targets = trainOp)\n",
    "if (i % 1 == 0)\n",
    "  println(s\"Train loss at iteration $i = ${trainLoss.scalar} \" +\n",
    "    s\"(weight = ${session.run(fetches = weights.value).scalar})\")\n",
    "}\n",
    "\n",
    "println(s\"Trained weight value: ${session.run(fetches = weights.value).scalar}\")\n",
    "println(s\"True weight value: $weight\")"
   ]
  },
  {
   "cell_type": "code",
   "execution_count": null,
   "metadata": {},
   "outputs": [],
   "source": []
  }
 ],
 "metadata": {
  "kernelspec": {
   "display_name": "Dynaml/Scala",
   "language": "scala",
   "name": "dynaml-scala"
  },
  "language_info": {
   "codemirror_mode": "text/x-scala",
   "file_extension": ".scala",
   "mimetype": "text/x-scala",
   "name": "scala",
   "nbconvert_exporter": "script",
   "version": "2.12.11"
  }
 },
 "nbformat": 4,
 "nbformat_minor": 4
}
