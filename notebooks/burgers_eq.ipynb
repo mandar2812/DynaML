{
 "cells": [
  {
   "cell_type": "code",
   "execution_count": 1,
   "metadata": {},
   "outputs": [
    {
     "data": {
      "text/plain": [
       "\u001b[32mimport \u001b[39m\u001b[36m$exec.$                   \u001b[39m"
      ]
     },
     "execution_count": 1,
     "metadata": {},
     "output_type": "execute_result"
    }
   ],
   "source": [
    "import $exec.^.scripts.burgers_eq"
   ]
  },
  {
   "cell_type": "code",
   "execution_count": 2,
   "metadata": {},
   "outputs": [
    {
     "name": "stderr",
     "output_type": "stream",
     "text": [
      "SLF4J: Class path contains multiple SLF4J providers.\n",
      "SLF4J: Found provider [org.slf4j.log4j12.Log4j12ServiceProvider@673392ef]\n",
      "SLF4J: Found provider [org.slf4j.helpers.NOPServiceProvider@7e5db16d]\n",
      "SLF4J: See http://www.slf4j.org/codes.html#multiple_bindings for an explanation.\n",
      "SLF4J: Actual provider is of type [org.slf4j.log4j12.Log4j12ServiceProvider@673392ef]\n"
     ]
    },
    {
     "name": "stdout",
     "output_type": "stream",
     "text": [
      "Test Data Shapes: [441, 2]\n"
     ]
    },
    {
     "data": {
      "text/plain": [
       "\u001b[36mres\u001b[39m: (\u001b[32mdynamics\u001b[39m.\u001b[32mPDESystem\u001b[39m[\u001b[32mFloat\u001b[39m, \u001b[32mFloat\u001b[39m, \u001b[32mFloat\u001b[39m], \u001b[32mdynamics\u001b[39m.\u001b[32mPDESystem\u001b[39m.\u001b[32mModel\u001b[39m[\u001b[32mFloat\u001b[39m, \u001b[32mFloat\u001b[39m, \u001b[32mFloat\u001b[39m], \u001b[32mdata\u001b[39m.\u001b[32mSupervisedDataSet\u001b[39m[\u001b[32mTensor\u001b[39m[\u001b[32mFloat\u001b[39m], \u001b[32mTensor\u001b[39m[\u001b[32mFloat\u001b[39m]], \u001b[32mDelauneySurface\u001b[39m, \u001b[32mTensor\u001b[39m[\u001b[32mFloat\u001b[39m], \u001b[32mTensor\u001b[39m[\u001b[32mFloat\u001b[39m]) = (\n",
       "  io.github.tailhq.dynaml.tensorflow.dynamics.PDESystem@4aa68973,\n",
       "  \u001b[33mModel\u001b[39m(\n",
       "    io.github.tailhq.dynaml.tensorflow.models.TFModel@57b90c3d,\n",
       "    \u001b[32m\"Output\"\u001b[39m,\n",
       "    \u001b[33mVector\u001b[39m()\n",
       "  ),\n",
       "  \u001b[33mSupervisedDataSet\u001b[39m(\n",
       "    io.github.tailhq.dynaml.tensorflow.data.DataSet@3717d846,\n",
       "    io.github.tailhq.dynaml.tensorflow.data.DataSet@2262d5f6\n",
       "  ),\n",
       "  io.github.tailhq.dynaml.graphics.plot3d.DelauneySurface@70d4d8ad,\n",
       "  Tensor[Float, [441, 2]],\n",
       "  Tensor[Float, [441, 1]]\n",
       ")"
      ]
     },
     "execution_count": 2,
     "metadata": {},
     "output_type": "execute_result"
    }
   ],
   "source": [
    "val res = burgers_eq.solve_1d(\n",
    "    num_data = 100, \n",
    "    num_neurons = Seq(40, 30, 20),\n",
    "    iterations = 50000, \n",
    "    pde_wt = 20.0, \n",
    "    reg = 0.0001,\n",
    "    viscosity_param = 0.008, \n",
    "    optimizer = tf.train.AdaDelta(0.1f), \n",
    "    quadrature_scheme = \"GaussLegendre\", \n",
    "    tempdir = root/'media/'disk2/'scratch/'mandar/'tmp\n",
    ")"
   ]
  },
  {
   "cell_type": "code",
   "execution_count": 3,
   "metadata": {},
   "outputs": [
    {
     "name": "stdout",
     "output_type": "stream",
     "text": [
      "\n",
      "------------------------------------\n",
      "Rotate     : Left click and drag mouse\n",
      "Scale      : Roll mouse wheel\n",
      "Z Shift    : Right click and drag mouse\n",
      "Animate    : Double left click\n",
      "Screenshot : Press 's'\n",
      "\n",
      "------------------------------------\n"
     ]
    }
   ],
   "source": [
    "plot3d.show(res._4)"
   ]
  }
 ],
 "metadata": {
  "kernelspec": {
   "display_name": "Dynaml/Scala",
   "language": "scala",
   "name": "dynaml-scala"
  },
  "language_info": {
   "codemirror_mode": "text/x-scala",
   "file_extension": ".scala",
   "mimetype": "text/x-scala",
   "name": "scala",
   "nbconvert_exporter": "script",
   "version": "2.12.11"
  }
 },
 "nbformat": 4,
 "nbformat_minor": 4
}
