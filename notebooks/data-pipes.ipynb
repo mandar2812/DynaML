{
 "cells": [
  {
   "cell_type": "code",
   "execution_count": null,
   "metadata": {
    "jupyter": {
     "outputs_hidden": true
    }
   },
   "outputs": [],
   "source": [
    "import breeze.linalg.DenseVector\n",
    "import io.github.mandar2812.dynaml.graphics.charts.Highcharts._\n",
    "import io.github.mandar2812.dynaml.DynaMLPipe._\n",
    "import io.github.mandar2812.dynaml.pipes._\n",
    "import io.github.mandar2812.dynaml.utils.GaussianScaler\n",
    "import scala.collection.mutable.{MutableList => ML}"
   ]
  },
  {
   "cell_type": "code",
   "execution_count": null,
   "metadata": {
    "jupyter": {
     "outputs_hidden": true
    }
   },
   "outputs": [],
   "source": [
    "val deltaOperationARXMultiOutput = (deltaT: List[Int], deltaTargets: List[Int]) =>\n",
    "    DataPipe((lines: Iterable[(Double, DenseVector[Double])]) =>\n",
    "      lines.toList.sliding(math.max(deltaT.max, deltaTargets.max) + 1).map((history) => {\n",
    "\n",
    "        val hist = history.take(history.length - 1).map(_._2)\n",
    "\n",
    "        val num_outputs = deltaTargets.length\n",
    "\n",
    "        val featuresAcc: ML[Double] = ML()\n",
    "\n",
    "        val lags = deltaT ++ deltaTargets\n",
    "\n",
    "        (0 until hist.head.length).foreach((dimension) => {\n",
    "          //for each dimension/regressor take points t to t-order\n",
    "          featuresAcc ++= hist.takeRight(lags(dimension))\n",
    "            .map(vec => vec(dimension))\n",
    "        })\n",
    "\n",
    "        val outputs = history.last._2(0 until num_outputs)\n",
    "        val features = DenseVector(featuresAcc.toArray)\n",
    "\n",
    "        (features, outputs)\n",
    "      }).toStream)"
   ]
  },
  {
   "cell_type": "code",
   "execution_count": null,
   "metadata": {
    "jupyter": {
     "outputs_hidden": true
    }
   },
   "outputs": [],
   "source": [
    "val deltaT = 2"
   ]
  },
  {
   "cell_type": "code",
   "execution_count": null,
   "metadata": {},
   "outputs": [],
   "source": [
    "val preProcessPipe = fileToStream >\n",
    "  trimLines >\n",
    "  replaceWhiteSpaces >\n",
    "  extractTrainingFeatures(\n",
    "    List(0,5,6,7,8,1,2,3,4),\n",
    "    Map()\n",
    "  ) >\n",
    "  removeMissingLines >\n",
    "  IterableDataPipe((line: String) => {\n",
    "    val splits = line.split(\",\")\n",
    "    val timestamp = splits.head.toDouble\n",
    "    val data_vec = DenseVector(splits.tail.map(_.toDouble))\n",
    "    (timestamp, data_vec)\n",
    "  }) >\n",
    "  deltaOperationARXMultiOutput(\n",
    "    List.fill(4)(deltaT),\n",
    "    List.fill(4)(deltaT))"
   ]
  },
  {
   "cell_type": "code",
   "execution_count": null,
   "metadata": {},
   "outputs": [],
   "source": [
    "preProcessPipe(\"../data/steamgen.csv\")"
   ]
  },
  {
   "cell_type": "code",
   "execution_count": null,
   "metadata": {},
   "outputs": [],
   "source": []
  }
 ],
 "metadata": {
  "kernelspec": {
   "display_name": "Dynaml/Scala",
   "language": "scala",
   "name": "dynaml-scala"
  },
  "language_info": {
   "codemirror_mode": "text/x-scala",
   "file_extension": ".scala",
   "mimetype": "text/x-scala",
   "name": "scala",
   "nbconvert_exporter": "script",
   "version": "2.12.11"
  }
 },
 "nbformat": 4,
 "nbformat_minor": 4
}
