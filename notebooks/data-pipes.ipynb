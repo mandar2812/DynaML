{
 "cells": [
  {
   "cell_type": "code",
   "execution_count": 1,
   "metadata": {
    "jupyter": {
     "outputs_hidden": true
    }
   },
   "outputs": [
    {
     "data": {
      "text/plain": [
       "\u001b[32mimport \u001b[39m\u001b[36mbreeze.linalg.DenseVector\n",
       "\u001b[39m\n",
       "\u001b[32mimport \u001b[39m\u001b[36mio.github.mandar2812.dynaml.graphics.charts.Highcharts._\n",
       "\u001b[39m\n",
       "\u001b[32mimport \u001b[39m\u001b[36mio.github.mandar2812.dynaml.DynaMLPipe._\n",
       "\u001b[39m\n",
       "\u001b[32mimport \u001b[39m\u001b[36mio.github.mandar2812.dynaml.pipes._\n",
       "\u001b[39m\n",
       "\u001b[32mimport \u001b[39m\u001b[36mio.github.mandar2812.dynaml.utils.GaussianScaler\n",
       "\u001b[39m\n",
       "\u001b[32mimport \u001b[39m\u001b[36mscala.collection.mutable.{MutableList => ML}\u001b[39m"
      ]
     },
     "execution_count": 1,
     "metadata": {},
     "output_type": "execute_result"
    }
   ],
   "source": [
    "import breeze.linalg.DenseVector\n",
    "import io.github.mandar2812.dynaml.graphics.charts.Highcharts._\n",
    "import io.github.mandar2812.dynaml.DynaMLPipe._\n",
    "import io.github.mandar2812.dynaml.pipes._\n",
    "import io.github.mandar2812.dynaml.utils.GaussianScaler\n",
    "import scala.collection.mutable.{MutableList => ML}"
   ]
  },
  {
   "cell_type": "code",
   "execution_count": 2,
   "metadata": {
    "jupyter": {
     "outputs_hidden": true
    }
   },
   "outputs": [
    {
     "data": {
      "text/plain": [
       "\u001b[36mdeltaOperationARXMultiOutput\u001b[39m: (\u001b[32mList\u001b[39m[\u001b[32mInt\u001b[39m], \u001b[32mList\u001b[39m[\u001b[32mInt\u001b[39m]) => \u001b[32mDataPipe\u001b[39m[\u001b[32mIterable\u001b[39m[(\u001b[32mDouble\u001b[39m, \u001b[32mDenseVector\u001b[39m[\u001b[32mDouble\u001b[39m])], \u001b[32mStream\u001b[39m[(\u001b[32mDenseVector\u001b[39m[\u001b[32mDouble\u001b[39m], \u001b[32mDenseVector\u001b[39m[\u001b[32mDouble\u001b[39m])]] = ammonite.$sess.cmd1$Helper$$Lambda$2130/0x0000000840af3040@411aba43"
      ]
     },
     "execution_count": 2,
     "metadata": {},
     "output_type": "execute_result"
    }
   ],
   "source": [
    "val deltaOperationARXMultiOutput = (deltaT: List[Int], deltaTargets: List[Int]) =>\n",
    "    DataPipe((lines: Iterable[(Double, DenseVector[Double])]) =>\n",
    "      lines.toList.sliding(math.max(deltaT.max, deltaTargets.max) + 1).map((history) => {\n",
    "\n",
    "        val hist = history.take(history.length - 1).map(_._2)\n",
    "\n",
    "        val num_outputs = deltaTargets.length\n",
    "\n",
    "        val featuresAcc: ML[Double] = ML()\n",
    "\n",
    "        val lags = deltaT ++ deltaTargets\n",
    "\n",
    "        (0 until hist.head.length).foreach((dimension) => {\n",
    "          //for each dimension/regressor take points t to t-order\n",
    "          featuresAcc ++= hist.takeRight(lags(dimension))\n",
    "            .map(vec => vec(dimension))\n",
    "        })\n",
    "\n",
    "        val outputs = history.last._2(0 until num_outputs)\n",
    "        val features = DenseVector(featuresAcc.toArray)\n",
    "\n",
    "        (features, outputs)\n",
    "      }).toStream)"
   ]
  },
  {
   "cell_type": "code",
   "execution_count": 3,
   "metadata": {
    "jupyter": {
     "outputs_hidden": true
    }
   },
   "outputs": [
    {
     "data": {
      "text/plain": [
       "\u001b[36mdeltaT\u001b[39m: \u001b[32mInt\u001b[39m = \u001b[32m2\u001b[39m"
      ]
     },
     "execution_count": 3,
     "metadata": {},
     "output_type": "execute_result"
    }
   ],
   "source": [
    "val deltaT = 2"
   ]
  },
  {
   "cell_type": "code",
   "execution_count": 4,
   "metadata": {},
   "outputs": [
    {
     "data": {
      "text/plain": [
       "\u001b[36mpreProcessPipe\u001b[39m: \u001b[32mComposedPipe\u001b[39m[\u001b[32mString\u001b[39m, \u001b[32mIterable\u001b[39m[(\u001b[32mDouble\u001b[39m, \u001b[32mDenseVector\u001b[39m[\u001b[32mDouble\u001b[39m])], \u001b[32mStream\u001b[39m[(\u001b[32mDenseVector\u001b[39m[\u001b[32mDouble\u001b[39m], \u001b[32mDenseVector\u001b[39m[\u001b[32mDouble\u001b[39m])]] = \u001b[33mComposedPipe\u001b[39m(\n",
       "  \u001b[33mComposedPipe\u001b[39m(\n",
       "    \u001b[33mComposedPipe\u001b[39m(\n",
       "      \u001b[33mComposedPipe\u001b[39m(\n",
       "        \u001b[33mComposedPipe\u001b[39m(\n",
       "          \u001b[33mComposedPipe\u001b[39m(\n",
       "            io.github.mandar2812.dynaml.pipes.DataPipe$$anon$2@56c77273,\n",
       "            io.github.mandar2812.dynaml.pipes.IterableDataPipe$$anon$2@3a1fc26c\n",
       "          ),\n",
       "          io.github.mandar2812.dynaml.pipes.IterableDataPipe$$anon$2@6c1bacc1\n",
       "        ),\n",
       "        io.github.mandar2812.dynaml.pipes.DataPipe$$anon$2@4d10e0ee\n",
       "      ),\n",
       "      io.github.mandar2812.dynaml.pipes.IterableDataPipe$$anon$4@4f5ea719\n",
       "    ),\n",
       "    io.github.mandar2812.dynaml.pipes.IterableDataPipe$$anon$2@b16103c\n",
       "  ),\n",
       "  io.github.mandar2812.dynaml.pipes.DataPipe$$anon$2@3adad83b\n",
       ")"
      ]
     },
     "execution_count": 4,
     "metadata": {},
     "output_type": "execute_result"
    }
   ],
   "source": [
    "val preProcessPipe = fileToStream >\n",
    "  trimLines >\n",
    "  replaceWhiteSpaces >\n",
    "  extractTrainingFeatures(\n",
    "    List(0,5,6,7,8,1,2,3,4),\n",
    "    Map()\n",
    "  ) >\n",
    "  removeMissingLines >\n",
    "  IterableDataPipe((line: String) => {\n",
    "    val splits = line.split(\",\")\n",
    "    val timestamp = splits.head.toDouble\n",
    "    val data_vec = DenseVector(splits.tail.map(_.toDouble))\n",
    "    (timestamp, data_vec)\n",
    "  }) >\n",
    "  deltaOperationARXMultiOutput(\n",
    "    List.fill(4)(deltaT),\n",
    "    List.fill(4)(deltaT))"
   ]
  },
  {
   "cell_type": "code",
   "execution_count": 5,
   "metadata": {},
   "outputs": [
    {
     "data": {
      "text/plain": [
       "\u001b[36mres4\u001b[39m: \u001b[32mStream\u001b[39m[(\u001b[32mDenseVector\u001b[39m[\u001b[32mDouble\u001b[39m], \u001b[32mDenseVector\u001b[39m[\u001b[32mDouble\u001b[39m])] = \u001b[33mStream\u001b[39m(\n",
       "  (\n",
       "    DenseVector(320.08238893611104, 321.7109901970145, 2.5067738530481467, 2.5459079477298627, 0.032701299739161395, 0.2847994364405881, 9.302970053314816, 9.66262058403806, 0.7235675006200512, 0.5271473870728786, 0.6916286704298222, 0.3830201937658643, -2.28305641205371, -3.716481387850976, 0.017982753309452384, 0.018717890028551235),\n",
       "    DenseVector(320.91330769424036, 2.3605615428942226, 0.20365164556689003, 10.990955477930623)\n",
       "  ),\n",
       "  (\n",
       "    DenseVector(321.7109901970145, 320.91330769424036, 2.5459079477298627, 2.3605615428942226, 0.2847994364405881, 0.20365164556689003, 9.66262058403806, 10.990955477930623, 0.5271473870728786, 0.589603122994395, 0.3830201937658643, 0.7058146274340293, -3.716481387850976, -1.5309929715976218, 0.018717890028551235, 0.020756328419717966),\n",
       "    DenseVector(325.0025177260005, 0.02705418231106365, 0.3261868791391608, 12.430107125754343)\n",
       "  ),\n",
       "  (\n",
       "    DenseVector(320.91330769424036, 325.0025177260005, 2.3605615428942226, 0.02705418231106365, 0.20365164556689003, 0.3261868791391608, 10.990955477930623, 12.430107125754343, 0.589603122994395, 0.3648542218621854, 0.7058146274340293, 0.7132777258023264, -1.5309929715976218, -3.1730650036929084, 0.020756328419717966, 0.02292744292495133),\n",
       "    DenseVector(326.65276458017433, 0.28564942908940694, 0.7537762506116668, 13.68166562833737)\n",
       "  ),\n",
       "  (\n",
       "    DenseVector(325.0025177260005, 326.65276458017433, 0.02705418231106365, 0.28564942908940694, 0.3261868791391608, 0.7537762506116668, 12.430107125754343, 13.68166562833737, 0.3648542218621854, 0.5765401012070599, 0.7132777258023264, 0.3619780966136396, -3.1730650036929084, -1.7962118855409344, 0.02292744292495133, 0.020370994255220536),\n",
       "    DenseVector(326.1869163744934, 2.631328071118863, 1.851854064211498, 14.608886382335426)\n",
       "  ),\n",
       "  (\n",
       "    DenseVector(326.65276458017433, 326.1869163744934, 0.28564942908940694, 2.63..."
      ]
     },
     "execution_count": 5,
     "metadata": {},
     "output_type": "execute_result"
    }
   ],
   "source": [
    "preProcessPipe(\"../data/steamgen.csv\")"
   ]
  },
  {
   "cell_type": "code",
   "execution_count": null,
   "metadata": {},
   "outputs": [],
   "source": []
  }
 ],
 "metadata": {
  "kernelspec": {
   "display_name": "Dynaml/Scala",
   "language": "scala",
   "name": "dynaml-scala"
  },
  "language_info": {
   "codemirror_mode": "text/x-scala",
   "file_extension": ".sc",
   "mimetype": "text/x-scala",
   "name": "scala",
   "nbconvert_exporter": "script",
   "version": "2.12.12"
  }
 },
 "nbformat": 4,
 "nbformat_minor": 4
}
